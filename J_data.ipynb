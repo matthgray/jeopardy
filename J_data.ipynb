{
 "cells": [
  {
   "cell_type": "markdown",
   "metadata": {},
   "source": [
    "# Clean"
   ]
  },
  {
   "cell_type": "code",
   "execution_count": 1,
   "metadata": {
    "id": "KBAvwvQ-nr_F"
   },
   "outputs": [],
   "source": [
    "import pandas as pd\n",
    "# Import our modules\n",
    "import numpy as np\n",
    "import statsmodels as sm\n",
    "import pylab as pl\n",
    "from scipy import stats\n",
    "# from sklearn.externals.six import StringIO\n",
    "from sklearn import preprocessing\n",
    "from sklearn import cluster, tree, decomposition\n",
    "from sklearn.linear_model import LogisticRegression\n",
    "import matplotlib.pyplot as plt\n",
    "# import pydot\n",
    "import seaborn as sns\n",
    "import plotly.express as px"
   ]
  },
  {
   "cell_type": "code",
   "execution_count": 2,
   "metadata": {
    "id": "JQxowiQpn-n2"
   },
   "outputs": [],
   "source": [
    "# create a file name\n",
    "file_name = \"jeopardy_questions.csv\""
   ]
  },
  {
   "cell_type": "code",
   "execution_count": 3,
   "metadata": {
    "id": "YptiNFVUoXod"
   },
   "outputs": [],
   "source": [
    "# name file\n",
    "j_questions = pd.read_csv(file_name)"
   ]
  },
  {
   "cell_type": "code",
   "execution_count": 4,
   "metadata": {
    "colab": {
     "base_uri": "https://localhost:8080/"
    },
    "id": "s3P_dRclrJI0",
    "outputId": "6f9e625a-8753-404e-acc4-b94395065672"
   },
   "outputs": [
    {
     "data": {
      "text/plain": [
       "Index(['Show Number', ' Air Date', ' Round', ' Category', ' Value',\n",
       "       ' Question', ' Answer'],\n",
       "      dtype='object')"
      ]
     },
     "execution_count": 4,
     "metadata": {},
     "output_type": "execute_result"
    }
   ],
   "source": [
    "# issue with columns... there is a space before the word\n",
    "j_questions.columns"
   ]
  },
  {
   "cell_type": "code",
   "execution_count": 5,
   "metadata": {
    "colab": {
     "base_uri": "https://localhost:8080/",
     "height": 206
    },
    "id": "avCkD3h4325t",
    "outputId": "3350e112-18d6-4ed4-b3b5-d14ddd698ac8"
   },
   "outputs": [
    {
     "data": {
      "text/html": [
       "<div>\n",
       "<style scoped>\n",
       "    .dataframe tbody tr th:only-of-type {\n",
       "        vertical-align: middle;\n",
       "    }\n",
       "\n",
       "    .dataframe tbody tr th {\n",
       "        vertical-align: top;\n",
       "    }\n",
       "\n",
       "    .dataframe thead th {\n",
       "        text-align: right;\n",
       "    }\n",
       "</style>\n",
       "<table border=\"1\" class=\"dataframe\">\n",
       "  <thead>\n",
       "    <tr style=\"text-align: right;\">\n",
       "      <th></th>\n",
       "      <th>Show Number</th>\n",
       "      <th>Air Date</th>\n",
       "      <th>Round</th>\n",
       "      <th>Category</th>\n",
       "      <th>Value</th>\n",
       "      <th>Question</th>\n",
       "      <th>Answer</th>\n",
       "    </tr>\n",
       "  </thead>\n",
       "  <tbody>\n",
       "    <tr>\n",
       "      <th>0</th>\n",
       "      <td>4680</td>\n",
       "      <td>2004-12-31</td>\n",
       "      <td>Jeopardy!</td>\n",
       "      <td>HISTORY</td>\n",
       "      <td>200</td>\n",
       "      <td>For the last 8 years of his life, Galileo was ...</td>\n",
       "      <td>Copernicus</td>\n",
       "    </tr>\n",
       "    <tr>\n",
       "      <th>1</th>\n",
       "      <td>4680</td>\n",
       "      <td>2004-12-31</td>\n",
       "      <td>Jeopardy!</td>\n",
       "      <td>ESPN's TOP 10 ALL-TIME ATHLETES</td>\n",
       "      <td>200</td>\n",
       "      <td>No. 2: 1912 Olympian; football star at Carlisl...</td>\n",
       "      <td>Jim Thorpe</td>\n",
       "    </tr>\n",
       "    <tr>\n",
       "      <th>2</th>\n",
       "      <td>4680</td>\n",
       "      <td>2004-12-31</td>\n",
       "      <td>Jeopardy!</td>\n",
       "      <td>EVERYBODY TALKS ABOUT IT...</td>\n",
       "      <td>200</td>\n",
       "      <td>The city of Yuma in this state has a record av...</td>\n",
       "      <td>Arizona</td>\n",
       "    </tr>\n",
       "    <tr>\n",
       "      <th>3</th>\n",
       "      <td>4680</td>\n",
       "      <td>2004-12-31</td>\n",
       "      <td>Jeopardy!</td>\n",
       "      <td>THE COMPANY LINE</td>\n",
       "      <td>200</td>\n",
       "      <td>In 1963, live on \"The Art Linkletter Show\", th...</td>\n",
       "      <td>McDonald's</td>\n",
       "    </tr>\n",
       "    <tr>\n",
       "      <th>4</th>\n",
       "      <td>4680</td>\n",
       "      <td>2004-12-31</td>\n",
       "      <td>Jeopardy!</td>\n",
       "      <td>EPITAPHS &amp; TRIBUTES</td>\n",
       "      <td>200</td>\n",
       "      <td>Signer of the Dec. of Indep., framer of the Co...</td>\n",
       "      <td>John Adams</td>\n",
       "    </tr>\n",
       "  </tbody>\n",
       "</table>\n",
       "</div>"
      ],
      "text/plain": [
       "   Show Number    Air Date      Round                         Category  Value  \\\n",
       "0         4680  2004-12-31  Jeopardy!                          HISTORY    200   \n",
       "1         4680  2004-12-31  Jeopardy!  ESPN's TOP 10 ALL-TIME ATHLETES    200   \n",
       "2         4680  2004-12-31  Jeopardy!      EVERYBODY TALKS ABOUT IT...    200   \n",
       "3         4680  2004-12-31  Jeopardy!                 THE COMPANY LINE    200   \n",
       "4         4680  2004-12-31  Jeopardy!              EPITAPHS & TRIBUTES    200   \n",
       "\n",
       "                                            Question      Answer  \n",
       "0  For the last 8 years of his life, Galileo was ...  Copernicus  \n",
       "1  No. 2: 1912 Olympian; football star at Carlisl...  Jim Thorpe  \n",
       "2  The city of Yuma in this state has a record av...     Arizona  \n",
       "3  In 1963, live on \"The Art Linkletter Show\", th...  McDonald's  \n",
       "4  Signer of the Dec. of Indep., framer of the Co...  John Adams  "
      ]
     },
     "execution_count": 5,
     "metadata": {},
     "output_type": "execute_result"
    }
   ],
   "source": [
    "# remove the $\n",
    "j_questions[' Value'] = j_questions[' Value'].str[1:]\n",
    "j_questions.head()"
   ]
  },
  {
   "cell_type": "code",
   "execution_count": 6,
   "metadata": {
    "id": "LWrj93-XHoWj"
   },
   "outputs": [],
   "source": [
    "# remove 'one' from data\n",
    "j_questions = j_questions[j_questions[' Value'] != 'one']"
   ]
  },
  {
   "cell_type": "code",
   "execution_count": 7,
   "metadata": {
    "colab": {
     "base_uri": "https://localhost:8080/"
    },
    "id": "3-gmHmo4OhE4",
    "outputId": "17ef5f92-3546-4882-fa36-83b41af0c382"
   },
   "outputs": [],
   "source": [
    "# df_value[' Value'].replace(\",\", \"\")\n",
    "j_questions[' Value'] = j_questions[' Value'].replace(',','', regex=True)"
   ]
  },
  {
   "cell_type": "code",
   "execution_count": 8,
   "metadata": {
    "colab": {
     "base_uri": "https://localhost:8080/"
    },
    "id": "phJYYbXa9ReA",
    "outputId": "63da4675-1887-4a98-cb4d-a3c2ded3f1c9"
   },
   "outputs": [],
   "source": [
    "#  change values to a float\n",
    "j_questions[' Value'] = j_questions[' Value'].astype(float)"
   ]
  },
  {
   "cell_type": "code",
   "execution_count": 14,
   "metadata": {
    "scrolled": true
   },
   "outputs": [
    {
     "data": {
      "text/html": [
       "<div>\n",
       "<style scoped>\n",
       "    .dataframe tbody tr th:only-of-type {\n",
       "        vertical-align: middle;\n",
       "    }\n",
       "\n",
       "    .dataframe tbody tr th {\n",
       "        vertical-align: top;\n",
       "    }\n",
       "\n",
       "    .dataframe thead th {\n",
       "        text-align: right;\n",
       "    }\n",
       "</style>\n",
       "<table border=\"1\" class=\"dataframe\">\n",
       "  <thead>\n",
       "    <tr style=\"text-align: right;\">\n",
       "      <th></th>\n",
       "      <th>Show Number</th>\n",
       "      <th>Air Date</th>\n",
       "      <th>Round</th>\n",
       "      <th>Category</th>\n",
       "      <th>Value</th>\n",
       "      <th>Question</th>\n",
       "      <th>Answer</th>\n",
       "    </tr>\n",
       "  </thead>\n",
       "  <tbody>\n",
       "    <tr>\n",
       "      <th>29</th>\n",
       "      <td>4680</td>\n",
       "      <td>2004-12-31</td>\n",
       "      <td>Double Jeopardy!</td>\n",
       "      <td>DR. SEUSS AT THE MULTIPLEX</td>\n",
       "      <td>400.0</td>\n",
       "      <td>&lt;a href=\"http://www.j-archive.com/media/2004-1...</td>\n",
       "      <td>Horton</td>\n",
       "    </tr>\n",
       "    <tr>\n",
       "      <th>30</th>\n",
       "      <td>4680</td>\n",
       "      <td>2004-12-31</td>\n",
       "      <td>Double Jeopardy!</td>\n",
       "      <td>PRESIDENTIAL STATES OF BIRTH</td>\n",
       "      <td>400.0</td>\n",
       "      <td>California</td>\n",
       "      <td>Nixon</td>\n",
       "    </tr>\n",
       "    <tr>\n",
       "      <th>31</th>\n",
       "      <td>4680</td>\n",
       "      <td>2004-12-31</td>\n",
       "      <td>Double Jeopardy!</td>\n",
       "      <td>AIRLINE TRAVEL</td>\n",
       "      <td>400.0</td>\n",
       "      <td>It can be a place to leave your puppy when you...</td>\n",
       "      <td>a kennel</td>\n",
       "    </tr>\n",
       "    <tr>\n",
       "      <th>32</th>\n",
       "      <td>4680</td>\n",
       "      <td>2004-12-31</td>\n",
       "      <td>Double Jeopardy!</td>\n",
       "      <td>THAT OLD-TIME RELIGION</td>\n",
       "      <td>400.0</td>\n",
       "      <td>He's considered the author of the Pentateuch, ...</td>\n",
       "      <td>Moses</td>\n",
       "    </tr>\n",
       "    <tr>\n",
       "      <th>33</th>\n",
       "      <td>4680</td>\n",
       "      <td>2004-12-31</td>\n",
       "      <td>Double Jeopardy!</td>\n",
       "      <td>MUSICAL TRAINS</td>\n",
       "      <td>400.0</td>\n",
       "      <td>Steven Tyler of this band lent his steamin' vo...</td>\n",
       "      <td>Aerosmith</td>\n",
       "    </tr>\n",
       "    <tr>\n",
       "      <th>...</th>\n",
       "      <td>...</td>\n",
       "      <td>...</td>\n",
       "      <td>...</td>\n",
       "      <td>...</td>\n",
       "      <td>...</td>\n",
       "      <td>...</td>\n",
       "      <td>...</td>\n",
       "    </tr>\n",
       "    <tr>\n",
       "      <th>216924</th>\n",
       "      <td>4999</td>\n",
       "      <td>2006-05-11</td>\n",
       "      <td>Double Jeopardy!</td>\n",
       "      <td>OFF-BROADWAY</td>\n",
       "      <td>2000.0</td>\n",
       "      <td>In 2006 the cast of this long-running hit emba...</td>\n",
       "      <td>Stomp</td>\n",
       "    </tr>\n",
       "    <tr>\n",
       "      <th>216925</th>\n",
       "      <td>4999</td>\n",
       "      <td>2006-05-11</td>\n",
       "      <td>Double Jeopardy!</td>\n",
       "      <td>RIDDLE ME THIS</td>\n",
       "      <td>2000.0</td>\n",
       "      <td>This Puccini opera turns on the solution to 3 ...</td>\n",
       "      <td>Turandot</td>\n",
       "    </tr>\n",
       "    <tr>\n",
       "      <th>216926</th>\n",
       "      <td>4999</td>\n",
       "      <td>2006-05-11</td>\n",
       "      <td>Double Jeopardy!</td>\n",
       "      <td>\"T\" BIRDS</td>\n",
       "      <td>2000.0</td>\n",
       "      <td>In North America this term is properly applied...</td>\n",
       "      <td>a titmouse</td>\n",
       "    </tr>\n",
       "    <tr>\n",
       "      <th>216927</th>\n",
       "      <td>4999</td>\n",
       "      <td>2006-05-11</td>\n",
       "      <td>Double Jeopardy!</td>\n",
       "      <td>AUTHORS IN THEIR YOUTH</td>\n",
       "      <td>2000.0</td>\n",
       "      <td>In Penny Lane, where this \"Hellraiser\" grew up...</td>\n",
       "      <td>Clive Barker</td>\n",
       "    </tr>\n",
       "    <tr>\n",
       "      <th>216928</th>\n",
       "      <td>4999</td>\n",
       "      <td>2006-05-11</td>\n",
       "      <td>Double Jeopardy!</td>\n",
       "      <td>QUOTATIONS</td>\n",
       "      <td>2000.0</td>\n",
       "      <td>From Ft. Sill, Okla. he made the plea, Arizona...</td>\n",
       "      <td>Geronimo</td>\n",
       "    </tr>\n",
       "  </tbody>\n",
       "</table>\n",
       "<p>105912 rows × 7 columns</p>\n",
       "</div>"
      ],
      "text/plain": [
       "        Show Number    Air Date             Round  \\\n",
       "29             4680  2004-12-31  Double Jeopardy!   \n",
       "30             4680  2004-12-31  Double Jeopardy!   \n",
       "31             4680  2004-12-31  Double Jeopardy!   \n",
       "32             4680  2004-12-31  Double Jeopardy!   \n",
       "33             4680  2004-12-31  Double Jeopardy!   \n",
       "...             ...         ...               ...   \n",
       "216924         4999  2006-05-11  Double Jeopardy!   \n",
       "216925         4999  2006-05-11  Double Jeopardy!   \n",
       "216926         4999  2006-05-11  Double Jeopardy!   \n",
       "216927         4999  2006-05-11  Double Jeopardy!   \n",
       "216928         4999  2006-05-11  Double Jeopardy!   \n",
       "\n",
       "                            Category   Value  \\\n",
       "29        DR. SEUSS AT THE MULTIPLEX   400.0   \n",
       "30      PRESIDENTIAL STATES OF BIRTH   400.0   \n",
       "31                    AIRLINE TRAVEL   400.0   \n",
       "32            THAT OLD-TIME RELIGION   400.0   \n",
       "33                    MUSICAL TRAINS   400.0   \n",
       "...                              ...     ...   \n",
       "216924                  OFF-BROADWAY  2000.0   \n",
       "216925                RIDDLE ME THIS  2000.0   \n",
       "216926                     \"T\" BIRDS  2000.0   \n",
       "216927        AUTHORS IN THEIR YOUTH  2000.0   \n",
       "216928                    QUOTATIONS  2000.0   \n",
       "\n",
       "                                                 Question        Answer  \n",
       "29      <a href=\"http://www.j-archive.com/media/2004-1...        Horton  \n",
       "30                                             California         Nixon  \n",
       "31      It can be a place to leave your puppy when you...      a kennel  \n",
       "32      He's considered the author of the Pentateuch, ...         Moses  \n",
       "33      Steven Tyler of this band lent his steamin' vo...     Aerosmith  \n",
       "...                                                   ...           ...  \n",
       "216924  In 2006 the cast of this long-running hit emba...         Stomp  \n",
       "216925  This Puccini opera turns on the solution to 3 ...      Turandot  \n",
       "216926  In North America this term is properly applied...    a titmouse  \n",
       "216927  In Penny Lane, where this \"Hellraiser\" grew up...  Clive Barker  \n",
       "216928  From Ft. Sill, Okla. he made the plea, Arizona...      Geronimo  \n",
       "\n",
       "[105912 rows x 7 columns]"
      ]
     },
     "execution_count": 14,
     "metadata": {},
     "output_type": "execute_result"
    }
   ],
   "source": [
    "# double_j is double jeopardy\n",
    "double_j = j_questions[j_questions[' Round'] == 'Double Jeopardy!']\n",
    "double_j"
   ]
  },
  {
   "cell_type": "code",
   "execution_count": 15,
   "metadata": {},
   "outputs": [
    {
     "data": {
      "text/html": [
       "<div>\n",
       "<style scoped>\n",
       "    .dataframe tbody tr th:only-of-type {\n",
       "        vertical-align: middle;\n",
       "    }\n",
       "\n",
       "    .dataframe tbody tr th {\n",
       "        vertical-align: top;\n",
       "    }\n",
       "\n",
       "    .dataframe thead th {\n",
       "        text-align: right;\n",
       "    }\n",
       "</style>\n",
       "<table border=\"1\" class=\"dataframe\">\n",
       "  <thead>\n",
       "    <tr style=\"text-align: right;\">\n",
       "      <th></th>\n",
       "      <th>Show Number</th>\n",
       "      <th>Air Date</th>\n",
       "      <th>Round</th>\n",
       "      <th>Category</th>\n",
       "      <th>Value</th>\n",
       "      <th>Question</th>\n",
       "      <th>Answer</th>\n",
       "    </tr>\n",
       "  </thead>\n",
       "  <tbody>\n",
       "    <tr>\n",
       "      <th>0</th>\n",
       "      <td>4680</td>\n",
       "      <td>2004-12-31</td>\n",
       "      <td>Jeopardy!</td>\n",
       "      <td>HISTORY</td>\n",
       "      <td>200.0</td>\n",
       "      <td>For the last 8 years of his life, Galileo was ...</td>\n",
       "      <td>Copernicus</td>\n",
       "    </tr>\n",
       "    <tr>\n",
       "      <th>1</th>\n",
       "      <td>4680</td>\n",
       "      <td>2004-12-31</td>\n",
       "      <td>Jeopardy!</td>\n",
       "      <td>ESPN's TOP 10 ALL-TIME ATHLETES</td>\n",
       "      <td>200.0</td>\n",
       "      <td>No. 2: 1912 Olympian; football star at Carlisl...</td>\n",
       "      <td>Jim Thorpe</td>\n",
       "    </tr>\n",
       "    <tr>\n",
       "      <th>2</th>\n",
       "      <td>4680</td>\n",
       "      <td>2004-12-31</td>\n",
       "      <td>Jeopardy!</td>\n",
       "      <td>EVERYBODY TALKS ABOUT IT...</td>\n",
       "      <td>200.0</td>\n",
       "      <td>The city of Yuma in this state has a record av...</td>\n",
       "      <td>Arizona</td>\n",
       "    </tr>\n",
       "    <tr>\n",
       "      <th>3</th>\n",
       "      <td>4680</td>\n",
       "      <td>2004-12-31</td>\n",
       "      <td>Jeopardy!</td>\n",
       "      <td>THE COMPANY LINE</td>\n",
       "      <td>200.0</td>\n",
       "      <td>In 1963, live on \"The Art Linkletter Show\", th...</td>\n",
       "      <td>McDonald's</td>\n",
       "    </tr>\n",
       "    <tr>\n",
       "      <th>4</th>\n",
       "      <td>4680</td>\n",
       "      <td>2004-12-31</td>\n",
       "      <td>Jeopardy!</td>\n",
       "      <td>EPITAPHS &amp; TRIBUTES</td>\n",
       "      <td>200.0</td>\n",
       "      <td>Signer of the Dec. of Indep., framer of the Co...</td>\n",
       "      <td>John Adams</td>\n",
       "    </tr>\n",
       "    <tr>\n",
       "      <th>...</th>\n",
       "      <td>...</td>\n",
       "      <td>...</td>\n",
       "      <td>...</td>\n",
       "      <td>...</td>\n",
       "      <td>...</td>\n",
       "      <td>...</td>\n",
       "      <td>...</td>\n",
       "    </tr>\n",
       "    <tr>\n",
       "      <th>216894</th>\n",
       "      <td>4999</td>\n",
       "      <td>2006-05-11</td>\n",
       "      <td>Jeopardy!</td>\n",
       "      <td>LOVE SONGS IN GERMAN</td>\n",
       "      <td>1000.0</td>\n",
       "      <td>Joe Cocker: \"Sie Sind So Schon\"</td>\n",
       "      <td>\"You Are So Beautiful\"</td>\n",
       "    </tr>\n",
       "    <tr>\n",
       "      <th>216895</th>\n",
       "      <td>4999</td>\n",
       "      <td>2006-05-11</td>\n",
       "      <td>Jeopardy!</td>\n",
       "      <td>FIRST IN OUR HEARTS</td>\n",
       "      <td>1000.0</td>\n",
       "      <td>Having no reeds, pipes or vibrating parts, thi...</td>\n",
       "      <td>(Laurens) Hammond</td>\n",
       "    </tr>\n",
       "    <tr>\n",
       "      <th>216896</th>\n",
       "      <td>4999</td>\n",
       "      <td>2006-05-11</td>\n",
       "      <td>Jeopardy!</td>\n",
       "      <td>IT'S NOT ALEX TREBEK</td>\n",
       "      <td>1000.0</td>\n",
       "      <td>It's not me seen &lt;a href=\"http://www.j-archive...</td>\n",
       "      <td>Neville Chamberlain</td>\n",
       "    </tr>\n",
       "    <tr>\n",
       "      <th>216897</th>\n",
       "      <td>4999</td>\n",
       "      <td>2006-05-11</td>\n",
       "      <td>Jeopardy!</td>\n",
       "      <td>SCIENCE BRIEFS</td>\n",
       "      <td>1000.0</td>\n",
       "      <td>The unit of magnetic flux density, abbreviated...</td>\n",
       "      <td>(Nikola) Tesla</td>\n",
       "    </tr>\n",
       "    <tr>\n",
       "      <th>216898</th>\n",
       "      <td>4999</td>\n",
       "      <td>2006-05-11</td>\n",
       "      <td>Jeopardy!</td>\n",
       "      <td>RATED \"R\"</td>\n",
       "      <td>1000.0</td>\n",
       "      <td>(&lt;a href=\"http://www.j-archive.com/media/2006-...</td>\n",
       "      <td>the rowls</td>\n",
       "    </tr>\n",
       "  </tbody>\n",
       "</table>\n",
       "<p>107384 rows × 7 columns</p>\n",
       "</div>"
      ],
      "text/plain": [
       "        Show Number    Air Date      Round                         Category  \\\n",
       "0              4680  2004-12-31  Jeopardy!                          HISTORY   \n",
       "1              4680  2004-12-31  Jeopardy!  ESPN's TOP 10 ALL-TIME ATHLETES   \n",
       "2              4680  2004-12-31  Jeopardy!      EVERYBODY TALKS ABOUT IT...   \n",
       "3              4680  2004-12-31  Jeopardy!                 THE COMPANY LINE   \n",
       "4              4680  2004-12-31  Jeopardy!              EPITAPHS & TRIBUTES   \n",
       "...             ...         ...        ...                              ...   \n",
       "216894         4999  2006-05-11  Jeopardy!             LOVE SONGS IN GERMAN   \n",
       "216895         4999  2006-05-11  Jeopardy!              FIRST IN OUR HEARTS   \n",
       "216896         4999  2006-05-11  Jeopardy!             IT'S NOT ALEX TREBEK   \n",
       "216897         4999  2006-05-11  Jeopardy!                   SCIENCE BRIEFS   \n",
       "216898         4999  2006-05-11  Jeopardy!                        RATED \"R\"   \n",
       "\n",
       "         Value                                           Question  \\\n",
       "0        200.0  For the last 8 years of his life, Galileo was ...   \n",
       "1        200.0  No. 2: 1912 Olympian; football star at Carlisl...   \n",
       "2        200.0  The city of Yuma in this state has a record av...   \n",
       "3        200.0  In 1963, live on \"The Art Linkletter Show\", th...   \n",
       "4        200.0  Signer of the Dec. of Indep., framer of the Co...   \n",
       "...        ...                                                ...   \n",
       "216894  1000.0                    Joe Cocker: \"Sie Sind So Schon\"   \n",
       "216895  1000.0  Having no reeds, pipes or vibrating parts, thi...   \n",
       "216896  1000.0  It's not me seen <a href=\"http://www.j-archive...   \n",
       "216897  1000.0  The unit of magnetic flux density, abbreviated...   \n",
       "216898  1000.0  (<a href=\"http://www.j-archive.com/media/2006-...   \n",
       "\n",
       "                        Answer  \n",
       "0                   Copernicus  \n",
       "1                   Jim Thorpe  \n",
       "2                      Arizona  \n",
       "3                   McDonald's  \n",
       "4                   John Adams  \n",
       "...                        ...  \n",
       "216894  \"You Are So Beautiful\"  \n",
       "216895       (Laurens) Hammond  \n",
       "216896     Neville Chamberlain  \n",
       "216897          (Nikola) Tesla  \n",
       "216898               the rowls  \n",
       "\n",
       "[107384 rows x 7 columns]"
      ]
     },
     "execution_count": 15,
     "metadata": {},
     "output_type": "execute_result"
    }
   ],
   "source": [
    "# n_j is normal questions\n",
    "n_j = j_questions[j_questions[' Round'] == 'Jeopardy!']\n",
    "n_j"
   ]
  },
  {
   "cell_type": "markdown",
   "metadata": {},
   "source": [
    "# Descriptive Analysis\n",
    "## Most common Categories?\n",
    "## Average bet in double Jeopardy?"
   ]
  },
  {
   "cell_type": "code",
   "execution_count": 19,
   "metadata": {},
   "outputs": [
    {
     "data": {
      "text/plain": [
       "400.0      21288\n",
       "800.0      19856\n",
       "2000.0     12585\n",
       "1200.0     11602\n",
       "1600.0     10952\n",
       "           ...  \n",
       "10400.0        1\n",
       "1183.0         1\n",
       "20.0           1\n",
       "9500.0         1\n",
       "22.0           1\n",
       "Name:  Value, Length: 141, dtype: int64"
      ]
     },
     "execution_count": 19,
     "metadata": {},
     "output_type": "execute_result"
    }
   ],
   "source": [
    "# most common value in double jeopardy\n",
    "double_j[' Value'].value_counts()"
   ]
  },
  {
   "cell_type": "code",
   "execution_count": 16,
   "metadata": {},
   "outputs": [
    {
     "data": {
      "text/html": [
       "<div>\n",
       "<style scoped>\n",
       "    .dataframe tbody tr th:only-of-type {\n",
       "        vertical-align: middle;\n",
       "    }\n",
       "\n",
       "    .dataframe tbody tr th {\n",
       "        vertical-align: top;\n",
       "    }\n",
       "\n",
       "    .dataframe thead th {\n",
       "        text-align: right;\n",
       "    }\n",
       "</style>\n",
       "<table border=\"1\" class=\"dataframe\">\n",
       "  <thead>\n",
       "    <tr style=\"text-align: right;\">\n",
       "      <th></th>\n",
       "      <th>Show Number</th>\n",
       "      <th>Value</th>\n",
       "    </tr>\n",
       "  </thead>\n",
       "  <tbody>\n",
       "    <tr>\n",
       "      <th>count</th>\n",
       "      <td>105912.000000</td>\n",
       "      <td>105912.000000</td>\n",
       "    </tr>\n",
       "    <tr>\n",
       "      <th>mean</th>\n",
       "      <td>4264.161644</td>\n",
       "      <td>1017.291742</td>\n",
       "    </tr>\n",
       "    <tr>\n",
       "      <th>std</th>\n",
       "      <td>1387.287091</td>\n",
       "      <td>755.440606</td>\n",
       "    </tr>\n",
       "    <tr>\n",
       "      <th>min</th>\n",
       "      <td>1.000000</td>\n",
       "      <td>5.000000</td>\n",
       "    </tr>\n",
       "    <tr>\n",
       "      <th>25%</th>\n",
       "      <td>3348.000000</td>\n",
       "      <td>400.000000</td>\n",
       "    </tr>\n",
       "    <tr>\n",
       "      <th>50%</th>\n",
       "      <td>4492.000000</td>\n",
       "      <td>800.000000</td>\n",
       "    </tr>\n",
       "    <tr>\n",
       "      <th>75%</th>\n",
       "      <td>5393.250000</td>\n",
       "      <td>1500.000000</td>\n",
       "    </tr>\n",
       "    <tr>\n",
       "      <th>max</th>\n",
       "      <td>6298.000000</td>\n",
       "      <td>18000.000000</td>\n",
       "    </tr>\n",
       "  </tbody>\n",
       "</table>\n",
       "</div>"
      ],
      "text/plain": [
       "         Show Number          Value\n",
       "count  105912.000000  105912.000000\n",
       "mean     4264.161644    1017.291742\n",
       "std      1387.287091     755.440606\n",
       "min         1.000000       5.000000\n",
       "25%      3348.000000     400.000000\n",
       "50%      4492.000000     800.000000\n",
       "75%      5393.250000    1500.000000\n",
       "max      6298.000000   18000.000000"
      ]
     },
     "execution_count": 16,
     "metadata": {},
     "output_type": "execute_result"
    }
   ],
   "source": [
    "# stats on double jeopardy values\n",
    "double_j.describe()"
   ]
  },
  {
   "cell_type": "code",
   "execution_count": 27,
   "metadata": {},
   "outputs": [
    {
     "data": {
      "text/plain": [
       "POTPOURRI            255\n",
       "STUPID ANSWERS       255\n",
       "SPORTS               253\n",
       "ANIMALS              233\n",
       "AMERICAN HISTORY     227\n",
       "                    ... \n",
       "ATLANTIS               1\n",
       "ONE MAN, ONE BOAT      1\n",
       "UP YOUR \"ALLEY\"        1\n",
       "POE                    1\n",
       "HAND SIGNALS           1\n",
       "Name:  Category, Length: 15155, dtype: int64"
      ]
     },
     "execution_count": 27,
     "metadata": {},
     "output_type": "execute_result"
    }
   ],
   "source": [
    "# most common category for normal jeopardy\n",
    "n_j[' Category'].value_counts()"
   ]
  },
  {
   "cell_type": "code",
   "execution_count": 44,
   "metadata": {},
   "outputs": [
    {
     "data": {
      "text/plain": [
       "BEFORE & AFTER                  450\n",
       "LITERATURE                      381\n",
       "SCIENCE                         296\n",
       "WORLD GEOGRAPHY                 254\n",
       "OPERA                           250\n",
       "                               ... \n",
       "ATHLETES' COUNTRIES OF BIRTH      1\n",
       "CAPITAL CITY OF BIRTH             1\n",
       "NEWFOUNDLAND                      1\n",
       "AROUND THE LAB WITH LEX           1\n",
       "MIDWAY ISLAND                     1\n",
       "Name:  Category, Length: 14576, dtype: int64"
      ]
     },
     "execution_count": 44,
     "metadata": {},
     "output_type": "execute_result"
    }
   ],
   "source": [
    "# most common categories for double jeopardy\n",
    "double_j[' Category'].value_counts()"
   ]
  },
  {
   "cell_type": "markdown",
   "metadata": {
    "id": "cIcZnnq9o02o"
   },
   "source": [
    "# Prescriptive Analysis"
   ]
  },
  {
   "cell_type": "markdown",
   "metadata": {},
   "source": [
    "## Focus studying subject\n",
    "* Potpouri \n",
    "* Literature\n",
    "* Science\n",
    "* World Geography\n",
    "* Sports\n",
    "* Animal\n",
    "* American History"
   ]
  },
  {
   "cell_type": "markdown",
   "metadata": {},
   "source": [
    "## Thoughts on double jeopardy bets\n",
    "\n",
    "### The guest should consider the context.\n",
    "### However, The average bet is around a thousand dollars.\n",
    "### Guest should use that at as a way to gauge their peformance against other guests.\n",
    "### One contestent used double jeopardy as a way to create cash distance from the others.\n",
    "### His average was around 9000 dollars."
   ]
  }
 ],
 "metadata": {
  "colab": {
   "collapsed_sections": [],
   "name": "J_data.ipynb",
   "provenance": []
  },
  "kernelspec": {
   "display_name": "Python 3",
   "language": "python",
   "name": "python3"
  },
  "language_info": {
   "codemirror_mode": {
    "name": "ipython",
    "version": 3
   },
   "file_extension": ".py",
   "mimetype": "text/x-python",
   "name": "python",
   "nbconvert_exporter": "python",
   "pygments_lexer": "ipython3",
   "version": "3.8.3"
  }
 },
 "nbformat": 4,
 "nbformat_minor": 1
}
